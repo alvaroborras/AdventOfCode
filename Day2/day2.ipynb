{
 "cells": [
  {
   "cell_type": "code",
   "execution_count": 1,
   "metadata": {},
   "outputs": [
    {
     "name": "stdout",
     "output_type": "stream",
     "text": [
      "Answer: 1636725  0.140676 seconds (198.12 k allocations: 10.983 MiB, 97.85% compilation time)\n"
     ]
    }
   ],
   "source": [
    "# Day 2, part 1\n",
    "# Parse a sequence of instructions to move vertically and horitontally starting from the origin, \n",
    "# and change the positions with the following rules:\n",
    "#   - 'forward X' increases horitzontal position by X steps\n",
    "#   - 'up X' decreases vertical position by X steps\n",
    "#   - 'down X' increases vertical position by X steps\n",
    "@time begin\n",
    "    open(\"input.txt\", \"r\") do f\n",
    "        hor = 0;\n",
    "        vert = 0;\n",
    "        for line in readlines(f)\n",
    "            instructions = split(line);\n",
    "            direction = instructions[1];\n",
    "            steps = parse(Int16, instructions[2]);\n",
    "            if direction == \"forward\"\n",
    "                hor += steps;\n",
    "            elseif direction == \"up\"\n",
    "                vert -= steps;\n",
    "            else\n",
    "                vert += steps;\n",
    "            end\n",
    "        end\n",
    "        print(\"Answer: $(hor * vert)\")\n",
    "    end\n",
    "end"
   ]
  },
  {
   "cell_type": "code",
   "execution_count": 2,
   "metadata": {},
   "outputs": [
    {
     "name": "stdout",
     "output_type": "stream",
     "text": [
      "Answer: 1872757425  0.056516 seconds (27.60 k allocations: 1.573 MiB, 97.20% compilation time)\n"
     ]
    }
   ],
   "source": [
    "# Day 2, part 2\n",
    "# Now, a third variable is introduced, 'aim'.\n",
    "# The instructions also are different:\n",
    "#   - 'down X' increases the aim by X units\n",
    "#   - 'up X' decreases the aim by X units\n",
    "#   - 'forward X' increases the horitzontal position by X units and increases the depth by aim * X\n",
    "\n",
    "@time begin\n",
    "    open(\"input.txt\", \"r\") do f\n",
    "        hor = 0;\n",
    "        vert = 0;\n",
    "        aim = 0;\n",
    "        for line in readlines(f)\n",
    "            instructions = split(line);\n",
    "            direction = instructions[1];\n",
    "            steps = parse(Int16, instructions[2]);\n",
    "            if direction == \"forward\"\n",
    "                hor += steps;\n",
    "                vert += aim * steps;\n",
    "            elseif direction == \"up\"\n",
    "                aim -= steps;\n",
    "            else\n",
    "                aim += steps;\n",
    "            end\n",
    "        end\n",
    "        print(\"Answer: $(hor * vert)\")\n",
    "    end\n",
    "end"
   ]
  },
  {
   "cell_type": "code",
   "execution_count": null,
   "metadata": {},
   "outputs": [],
   "source": []
  }
 ],
 "metadata": {
  "kernelspec": {
   "display_name": "Julia 1.7.0",
   "language": "julia",
   "name": "julia-1.7"
  },
  "language_info": {
   "file_extension": ".jl",
   "mimetype": "application/julia",
   "name": "julia",
   "version": "1.7.0"
  },
  "orig_nbformat": 4
 },
 "nbformat": 4,
 "nbformat_minor": 2
}
