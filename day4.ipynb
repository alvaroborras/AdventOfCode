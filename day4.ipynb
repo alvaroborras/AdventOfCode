{
 "cells": [
  {
   "cell_type": "code",
   "execution_count": 72,
   "metadata": {},
   "outputs": [
    {
     "name": "stdout",
     "output_type": "stream",
     "text": [
      "Answer part 1: 8136\n",
      "Answer part 2: 12738\n"
     ]
    }
   ],
   "source": [
    "\n",
    "open(\"input.txt\", \"r\") do f \n",
    "    instructions = parse.(Int, split(readline(f), \",\"));\n",
    "\n",
    "    nOfTables = 100;\n",
    "    N = 5;\n",
    "    board = zeros(Int8, nOfTables, N, N);\n",
    "    position = Dict();\n",
    "\n",
    "    # there are 100 boards\n",
    "    for table = 1:nOfTables \n",
    "        readline(f)\n",
    "        # size of the table is 5x5\n",
    "        for row = 1:N\n",
    "            board[table, row, :] = parse.(Int, split(readline(f))); \n",
    "            for col = 1:N\n",
    "                position[(table, board[table, row, col])] = (row, col);\n",
    "            end\n",
    "        end\n",
    "    end\n",
    "    \n",
    "    solvedBoards = zeros(nOfTables);\n",
    "    mark = zeros(Int8, nOfTables, N, N);\n",
    "    for inst = 1:length(instructions)\n",
    "        number = instructions[inst];\n",
    "        for table = 1:nOfTables\n",
    "            if haskey(position, (table, number))\n",
    "                row = position[(table, number)][1];\n",
    "                col = position[(table, number)][2];\n",
    "                mark[table, row, col] = 1;\n",
    "                if sum(mark[table, row, :]) == N || sum(mark[table, :, col]) == N\n",
    "                    # compute board score\n",
    "                    solvedBoards[table] = 1;\n",
    "                    score = number * sum( (mark[table, :, :] .== 0) .* board[table, :, :] )\n",
    "                    if sum(solvedBoards) == 1\n",
    "                        println(\"Answer part 1: $score\");\n",
    "                    end\n",
    "                    if sum(solvedBoards) == nOfTables\n",
    "                        println(\"Answer part 2: $score\");\n",
    "                        return\n",
    "                    end\n",
    "                end\n",
    "            end\n",
    "        end\n",
    "    end\n",
    "end"
   ]
  },
  {
   "cell_type": "code",
   "execution_count": 35,
   "metadata": {},
   "outputs": [],
   "source": []
  },
  {
   "cell_type": "code",
   "execution_count": 55,
   "metadata": {},
   "outputs": [],
   "source": []
  },
  {
   "cell_type": "code",
   "execution_count": null,
   "metadata": {},
   "outputs": [],
   "source": [
    "board"
   ]
  }
 ],
 "metadata": {
  "kernelspec": {
   "display_name": "Julia 1.7.0",
   "language": "julia",
   "name": "julia-1.7"
  },
  "language_info": {
   "file_extension": ".jl",
   "mimetype": "application/julia",
   "name": "julia",
   "version": "1.7.0"
  },
  "orig_nbformat": 4
 },
 "nbformat": 4,
 "nbformat_minor": 2
}
