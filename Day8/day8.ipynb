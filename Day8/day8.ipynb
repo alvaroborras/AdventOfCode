{
 "cells": [
  {
   "cell_type": "code",
   "execution_count": 87,
   "metadata": {},
   "outputs": [
    {
     "name": "stdout",
     "output_type": "stream",
     "text": [
      "Answer part 1: 344\n",
      "  0.143936 seconds (544.02 k allocations: 27.739 MiB, 7.05% gc time, 99.48% compilation time)\n"
     ]
    }
   ],
   "source": [
    "@time begin\n",
    "    open(\"input.txt\", \"r\") do f\n",
    "        answer = 0;\n",
    "        for line in eachline(f)\n",
    "            X = split(line, \"|\"); \n",
    "            lengths = length.(split(X[2]));\n",
    "            answer += sum( (lengths .== 2) .+ (lengths .== 3) .+ (lengths .== 4) .+ (lengths .== 7))\n",
    "        end \n",
    "        println(\"Answer part 1: $answer\")\n",
    "    end\n",
    "end"
   ]
  },
  {
   "cell_type": "code",
   "execution_count": 86,
   "metadata": {},
   "outputs": [
    {
     "name": "stdout",
     "output_type": "stream",
     "text": [
      "1048410\n",
      "  0.216483 seconds (375.33 k allocations: 21.070 MiB, 6.91% gc time, 99.06% compilation time)\n"
     ]
    }
   ],
   "source": [
    "@time begin \n",
    "    open(\"input.txt\", \"r\") do f\n",
    "        function encode(digis)\n",
    "            one = filter(x -> length(x) == 2, digis)[1]\n",
    "            six = filter(x -> length(x) == 6 && !issubset(one, x), digis)[1]\n",
    "            upper_right = setdiff(one, six)[1]\n",
    "            five = filter(x -> length(x) == 5 && !issubset(upper_right, x), digis)[1]\n",
    "            down_left = setdiff(six, five)[1]\n",
    "            return upper_right, down_left\n",
    "        end\n",
    "        \n",
    "        function decode(digi, maps)\n",
    "            length(digi) in uniqs |> keys && (return uniqs[length(digi)])\n",
    "            if length(digi) == 6\n",
    "                maps ⊆ digi && return '0'\n",
    "                maps[1] ∈ digi && return '9'\n",
    "                return '6'\n",
    "            elseif length(digi) == 5\n",
    "                maps ⊆ digi && return '2'\n",
    "                maps[1] ∈ digi && return '3'\n",
    "                return '5'\n",
    "            end\n",
    "        end\n",
    "\n",
    "        uniqs = Dict(2 => '1', 3 => '7', 4 => '4', 7 => '8')\n",
    "        answer = 0\n",
    "        for line in eachline(f)\n",
    "            input, output = split(line, \" | \") .|> x -> split(x, \" \")\n",
    "            maps = input |> encode\n",
    "            raw_num = map(x -> decode(x, maps), output) |> join\n",
    "            answer += parse(Int, raw_num)\n",
    "        end\n",
    "        println(answer)\n",
    "    end\n",
    "end\n",
    "\n"
   ]
  },
  {
   "cell_type": "code",
   "execution_count": null,
   "metadata": {},
   "outputs": [],
   "source": []
  }
 ],
 "metadata": {
  "kernelspec": {
   "display_name": "Julia 1.7.0",
   "language": "julia",
   "name": "julia-1.7"
  },
  "language_info": {
   "file_extension": ".jl",
   "mimetype": "application/julia",
   "name": "julia",
   "version": "1.7.0"
  },
  "orig_nbformat": 4
 },
 "nbformat": 4,
 "nbformat_minor": 2
}
