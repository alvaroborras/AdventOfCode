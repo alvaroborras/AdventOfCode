{
 "cells": [
  {
   "cell_type": "code",
   "execution_count": 2,
   "metadata": {},
   "outputs": [
    {
     "name": "stdout",
     "output_type": "stream",
     "text": [
      "gamma_rate: 000110100011 (= 419)\n",
      "epsilon_rate: 111001011100 (= 3676)\n",
      "Answer: 1540244\n"
     ]
    }
   ],
   "source": [
    "# Day 3, part 1\n",
    "# We are given a set of binary strings (of the same length), which encode information about an 'epsilon rate'\n",
    "# and a 'gamma rate'. \n",
    "\n",
    "# To obtain the j-th bit in the binary form of the gamma rate, \n",
    "# we need to look at the most common bit at the j-th position for each string\n",
    "\n",
    "# To obtain the j-th bit in the binary form of the epsilon rate,\n",
    "# we need to look at the least common bit at the j-th position for each string\n",
    "\n",
    "# Since there are only two options for each position (either 0 or 1), the epsilon rate is given by a bitwise NOT (gamma = ~epsilon)\n",
    "\n",
    "f = open(\"input.txt\", \"r\");\n",
    "X = readlines(f);\n",
    "close(f)\n",
    "N = length(X);\n",
    "L = length(X[1]);\n",
    "\n",
    "gamma_rate = \"\";\n",
    "epsilon_rate = \"\";\n",
    "count0s = zeros(Int32, L);\n",
    "for col = 1:L\n",
    "    # count the number of occurrences of 0\n",
    "    for row = 1:N\n",
    "        count0s[col] += (X[row][col] == '0');\n",
    "        if count0s[col] > N/2\n",
    "            break\n",
    "        end\n",
    "    end\n",
    "    gamma_rate = gamma_rate * ((count0s[col] > N/2) ? \"0\" : \"1\");\n",
    "    epsilon_rate = epsilon_rate * ((count0s[col] < N/2) ? \"0\" : \"1\");\n",
    "end\n",
    "gamma_dec = (parse(Int32, gamma_rate, base=2));\n",
    "epsilon_dec = (parse(Int32, epsilon_rate, base=2));\n",
    "println(\"gamma_rate: $gamma_rate (= $gamma_dec)\")\n",
    "println(\"epsilon_rate: $epsilon_rate (= $epsilon_dec)\")\n",
    "println(\"Answer: $(epsilon_dec * gamma_dec)\")"
   ]
  },
  {
   "cell_type": "code",
   "execution_count": 72,
   "metadata": {},
   "outputs": [
    {
     "data": {
      "text/plain": [
       "-23"
      ]
     },
     "metadata": {},
     "output_type": "display_data"
    }
   ],
   "source": [
    "# Day 3, part 2\n",
    "\n",
    "# Now we are asked to compute two different quantities, 'oxygen generator rating' and 'CO2 scrubber rating'\n",
    "# Consider first bit of the binary strings\n",
    "#Keep only numbers selected by the bit criteria for the type of rating value for which you are searching. Discard numbers which do not match the bit criteria.\n",
    "#    If you only have one number left, stop; this is the rating value for which you are searching.\n",
    "#    Otherwise, repeat the process, considering the next bit to the right.\n",
    "\n",
    "#The bit criteria depends on which type of rating value you want to find:\n",
    "#    To find oxygen generator rating, determine the most common value (0 or 1) in the current bit position, and keep only numbers with that bit in that position. If 0 and 1 are equally common, keep values with a 1 in the position being considered.\n",
    "#    To find CO2 scrubber rating, determine the least common value (0 or 1) in the current bit position, and keep only numbers with that bit in that position. If 0 and 1 are equally common, keep values with a 0 in the position being considered."
   ]
  },
  {
   "cell_type": "code",
   "execution_count": 3,
   "metadata": {},
   "outputs": [
    {
     "name": "stdout",
     "output_type": "stream",
     "text": [
      "Oxygen rating: 1161, CO2 rating: 3621\n",
      "Answer: 4203981\n",
      "  0.507801 seconds (1.41 M allocations: 73.388 MiB, 2.41% gc time, 93.05% compilation time)\n"
     ]
    }
   ],
   "source": [
    "@time begin \n",
    "    f = open(\"input.txt\", \"r\");\n",
    "    X = readlines(f);\n",
    "    close(f)\n",
    "    N = length(X);\n",
    "    L = length(X[1]);\n",
    "    Y = zeros(Int8, N, L);\n",
    "    # Process data to integers instead of strings\n",
    "    for row = 1:N\n",
    "        for col = 1:L\n",
    "            Y[row,col] = parse(Int, string(X[row][col]));\n",
    "        end\n",
    "    end\n",
    "\n",
    "    # Oxygen rating\n",
    "    candidates_ox = ones(Int8, N);\n",
    "    valid_ox = 1:N;\n",
    "    for col = 1:L \n",
    "        most_common_value_ox = 1*(sum( Y[ valid_ox, col ] ) >= length(valid_ox)/2); \n",
    "        for row = valid_ox\n",
    "            if Y[row,col] != most_common_value_ox\n",
    "                candidates_ox[row] = 0;\n",
    "            end\n",
    "        end\n",
    "        valid_ox = findall(x -> x .== 1, candidates_ox);\n",
    "        if length(valid_ox) == 1\n",
    "            break\n",
    "        end\n",
    "    end\n",
    "    ox_rating = parse(Int, join(Y[valid_ox, :]), base=2);\n",
    "\n",
    "    # Co2 rating\n",
    "    candidates_co2 = ones(Int8, N);\n",
    "    valid_co2 = 1:N;\n",
    "\n",
    "    for col = 1:L \n",
    "        most_common_value_co2 = 1*(sum( Y[ valid_co2, col ] ) < length(valid_co2)/2); \n",
    "        for row = valid_co2\n",
    "            if Y[row,col] != most_common_value_co2\n",
    "                candidates_co2[row] = 0;\n",
    "            end\n",
    "        end\n",
    "        valid_co2 = findall(x -> x .== 1, candidates_co2);\n",
    "        if length(valid_co2) == 1\n",
    "            break\n",
    "        end\n",
    "    end\n",
    "    co2_rating = parse(Int, join(Y[valid_co2, :]), base=2)\n",
    "\n",
    "    println(\"Oxygen rating: $ox_rating, CO2 rating: $co2_rating\")\n",
    "    println(\"Answer: $(ox_rating * co2_rating)\")\n",
    "end"
   ]
  },
  {
   "cell_type": "markdown",
   "metadata": {},
   "source": []
  },
  {
   "cell_type": "code",
   "execution_count": 115,
   "metadata": {},
   "outputs": [
    {
     "data": {
      "text/plain": [
       "\"10111\""
      ]
     },
     "metadata": {},
     "output_type": "display_data"
    }
   ],
   "source": []
  },
  {
   "cell_type": "code",
   "execution_count": 119,
   "metadata": {},
   "outputs": [
    {
     "data": {
      "text/plain": [
       "23"
      ]
     },
     "metadata": {},
     "output_type": "display_data"
    }
   ],
   "source": []
  },
  {
   "cell_type": "code",
   "execution_count": 10,
   "metadata": {},
   "outputs": [],
   "source": [
    "close(f)"
   ]
  },
  {
   "cell_type": "code",
   "execution_count": null,
   "metadata": {},
   "outputs": [],
   "source": []
  }
 ],
 "metadata": {
  "kernelspec": {
   "display_name": "Julia 1.7.0",
   "language": "julia",
   "name": "julia-1.7"
  },
  "language_info": {
   "file_extension": ".jl",
   "mimetype": "application/julia",
   "name": "julia",
   "version": "1.7.0"
  },
  "orig_nbformat": 4
 },
 "nbformat": 4,
 "nbformat_minor": 2
}
