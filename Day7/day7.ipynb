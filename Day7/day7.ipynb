{
 "cells": [
  {
   "cell_type": "code",
   "execution_count": 3,
   "metadata": {},
   "outputs": [
    {
     "name": "stdout",
     "output_type": "stream",
     "text": [
      "Answer part 1: 347449\n",
      "  0.148553 seconds (183.63 k allocations: 27.815 MiB, 93.30% compilation time)\n"
     ]
    }
   ],
   "source": [
    "using LinearAlgebra\n",
    "\n",
    "@time begin \n",
    "    open(\"input.txt\") do f\n",
    "        X = parse.(Int, split(readline(f), \",\"));\n",
    "        answer = Int64(norm(X .- 1, 1));\n",
    "        for position = 1:maximum(X)\n",
    "            if norm(X .- position, 1) < answer \n",
    "                answer = Int64(norm(X .- position, 1));\n",
    "            end\n",
    "        end\n",
    "        println(\"Answer part 1: $answer\")\n",
    "    end\n",
    "end"
   ]
  },
  {
   "cell_type": "code",
   "execution_count": 28,
   "metadata": {},
   "outputs": [
    {
     "name": "stdout",
     "output_type": "stream",
     "text": [
      "Answer part 2: 98039527\n",
      "  0.320586 seconds (139.57 k allocations: 22.632 MiB, 10.57% gc time, 78.91% compilation time)\n"
     ]
    }
   ],
   "source": [
    "@time begin\n",
    "    open(\"input.txt\") do f\n",
    "        X = parse.(Int, split(readline(f), \",\"));\n",
    "        # cost to move k units is 1 + 2 + ... + k = k*(k+1)/2\n",
    "        g(initial, final) = abs(final - initial)*(abs(final - initial) + 1) / 2;\n",
    "        answer = -1;\n",
    "        for position = 1:maximum(X)\n",
    "            cost = Int32(sum([g(X[i], position) for i in 1:length(X)]));\n",
    "            if cost < answer || answer == -1\n",
    "                answer = cost;\n",
    "            end\n",
    "        end\n",
    "        println(\"Answer part 2: $answer\")\n",
    "    end\n",
    "end"
   ]
  }
 ],
 "metadata": {
  "kernelspec": {
   "display_name": "Julia 1.7.0",
   "language": "julia",
   "name": "julia-1.7"
  },
  "language_info": {
   "file_extension": ".jl",
   "mimetype": "application/julia",
   "name": "julia",
   "version": "1.7.0"
  },
  "orig_nbformat": 4
 },
 "nbformat": 4,
 "nbformat_minor": 2
}
