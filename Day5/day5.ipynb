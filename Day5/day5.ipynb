{
 "cells": [
  {
   "cell_type": "code",
   "execution_count": 31,
   "metadata": {},
   "outputs": [
    {
     "name": "stdout",
     "output_type": "stream",
     "text": [
      "Answer part 1: 7644\n",
      "  0.863537 seconds (1.94 M allocations: 94.137 MiB, 12.14% gc time, 99.36% compilation time)\n"
     ]
    }
   ],
   "source": [
    "@time begin \n",
    "    open(\"input.txt\", \"r\") do f\n",
    "        points = zeros(Int8, 1000, 1000);\n",
    "        while !eof(f)\n",
    "            line = split(readline(f), \" -> \");\n",
    "            start = parse.(Int, split(line[1], \",\")) .+ 1;\n",
    "            final = parse.(Int, split(line[2], \",\")) .+ 1;\n",
    "\n",
    "            vertical = start[1] == final[1];\n",
    "            horitzontal = start[2] == final[2];\n",
    "\n",
    "            if vertical\n",
    "                if start[2] > final[2]\n",
    "                    start, final = final, start;\n",
    "                end\n",
    "                points[start[2]:final[2], start[1]] .+= 1;\n",
    "            elseif horitzontal\n",
    "                if start[1] > final[1]\n",
    "                    start, final = final, start;\n",
    "                end\n",
    "                points[start[2], start[1]:final[1]] .+= 1;\n",
    "            end\n",
    "        end\n",
    "        answer =  sum( (points .>= 2) ) ;\n",
    "        println(\"Answer part 1: $answer\")\n",
    "    end\n",
    "end"
   ]
  },
  {
   "cell_type": "code",
   "execution_count": 32,
   "metadata": {},
   "outputs": [
    {
     "name": "stdout",
     "output_type": "stream",
     "text": [
      "Answer part 2: 18627\n",
      "  0.593573 seconds (951.87 k allocations: 53.625 MiB, 2.83% gc time, 98.87% compilation time)\n"
     ]
    }
   ],
   "source": [
    "@time begin \n",
    "    open(\"input.txt\", \"r\") do f\n",
    "        points = zeros(Int, 1000, 1000);\n",
    "        while !eof(f)\n",
    "            line = split(readline(f), \" -> \");\n",
    "            start = parse.(Int, split(line[1], \",\")) .+ 1;\n",
    "            final = parse.(Int, split(line[2], \",\")) .+ 1;\n",
    "\n",
    "            vertical = start[1] == final[1];\n",
    "            horitzontal = start[2] == final[2];\n",
    "\n",
    "            if vertical\n",
    "                if start[2] > final[2]\n",
    "                    start, final = final, start;\n",
    "                end\n",
    "                points[start[2]:final[2], start[1]] .+= 1;\n",
    "            elseif horitzontal\n",
    "                if start[1] > final[1]\n",
    "                    start, final = final, start;\n",
    "                end\n",
    "                points[start[2], start[1]:final[1]] .+= 1;\n",
    "            else\n",
    "                \n",
    "                # type \\\n",
    "                if start[2] - start[1] == final[2] - final[1]     \n",
    "                    #println(1, start.-1, final.-1)               \n",
    "                    if start[1] > final[1]\n",
    "                        start, final = final, start\n",
    "                    end\n",
    "                    x,y = start;\n",
    "                    while x <= final[1] && y <= final[2]\n",
    "                        #println(x-1,y-1)\n",
    "                        points[y, x] = points[y,x] + 1;\n",
    "                        x, y = x + 1, y + 1;\n",
    "                    end\n",
    "                    \n",
    "                end\n",
    "\n",
    "                # type /\n",
    "                if start[1] + start[2] == final[1] + final[2]\n",
    "                    #println(2, start.-1, final.-1)  \n",
    "                    if start[1] > final[1]\n",
    "                        start, final = final, start\n",
    "                    end\n",
    "                    x,y = start;\n",
    "                    while x <= final[1] && y >= final[2]\n",
    "                        #println(x,y)\n",
    "                        points[y, x] = points[y,x] + 1;\n",
    "                        x, y = x + 1, y - 1;\n",
    "                    end\n",
    "                end\n",
    "            end\n",
    "        end\n",
    "        answer =  sum( (points .>= 2) ) ;\n",
    "       # display(points)\n",
    "        println(\"Answer part 2: $answer\")\n",
    "    end\n",
    "end"
   ]
  },
  {
   "cell_type": "code",
   "execution_count": null,
   "metadata": {},
   "outputs": [],
   "source": []
  }
 ],
 "metadata": {
  "kernelspec": {
   "display_name": "Julia 1.7.0",
   "language": "julia",
   "name": "julia-1.7"
  },
  "language_info": {
   "file_extension": ".jl",
   "mimetype": "application/julia",
   "name": "julia",
   "version": "1.7.0"
  },
  "orig_nbformat": 4
 },
 "nbformat": 4,
 "nbformat_minor": 2
}
