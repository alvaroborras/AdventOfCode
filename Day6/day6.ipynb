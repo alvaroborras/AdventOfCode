{
 "cells": [
  {
   "cell_type": "code",
   "execution_count": 59,
   "metadata": {},
   "outputs": [
    {
     "name": "stdout",
     "output_type": "stream",
     "text": [
      "Answer part 1: 362639\n",
      "  0.004239 seconds (1.27 k allocations: 79.711 KiB)\n"
     ]
    }
   ],
   "source": [
    "@time begin\n",
    "    f = open(\"input.txt\");\n",
    "    X = split(readline(f), \",\");\n",
    "    close(f)\n",
    "    X = parse.(Int, X)\n",
    "\n",
    "    # In total there are 9 possible states (from 0 to 8)\n",
    "    count = zeros(Int128, 9);\n",
    "    for fish = 1:length(X)\n",
    "        count[X[fish] + 1] += 1;\n",
    "    end\n",
    "    spawn = 0;\n",
    "    # At each day, the update step can be performed with a circular shift.\n",
    "    for day = 1:80\n",
    "        \n",
    "        # update the number of fish with 7 days left (it is put on day 7 because then the circshift has to be applied)\n",
    "        count[8] += spawn;\n",
    "        # All the fishes that have 0 remainding days need to spawn fishes with 8 remainding days\n",
    "        # and they now have 6 remainding days\n",
    "        count = circshift(count, -1);\n",
    "        spawn = count[1];\n",
    "    end\n",
    "    println(\"Answer part 1: $(sum(count))\")\n",
    "end"
   ]
  }
 ],
 "metadata": {
  "kernelspec": {
   "display_name": "Julia 1.7.0",
   "language": "julia",
   "name": "julia-1.7"
  },
  "language_info": {
   "file_extension": ".jl",
   "mimetype": "application/julia",
   "name": "julia",
   "version": "1.7.0"
  },
  "orig_nbformat": 4
 },
 "nbformat": 4,
 "nbformat_minor": 2
}
