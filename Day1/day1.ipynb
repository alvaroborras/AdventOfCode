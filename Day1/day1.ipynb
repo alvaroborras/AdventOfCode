{
 "cells": [
  {
   "cell_type": "code",
   "execution_count": 1,
   "metadata": {},
   "outputs": [
    {
     "name": "stdout",
     "output_type": "stream",
     "text": [
      "Answer : 1475\n",
      "  0.215810 seconds (382.07 k allocations: 20.822 MiB, 24.60% gc time, 99.01% compilation time)\n"
     ]
    }
   ],
   "source": [
    "# Day 1, part 1\n",
    "# Given a list of integers, count the number of times that the sequence increases\n",
    "@time begin\n",
    "    answer = 0;\n",
    "    f = open(\"input.txt\", \"r\");\n",
    "    heights = parse.(Int16, readlines(f));\n",
    "    for j = 2:length(heights)\n",
    "        if heights[j] > heights[j - 1]\n",
    "            answer += 1;\n",
    "        end\n",
    "    end\n",
    "    close(f)\n",
    "    println(\"Answer : $(answer)\")\n",
    "end"
   ]
  },
  {
   "cell_type": "code",
   "execution_count": 2,
   "metadata": {},
   "outputs": [
    {
     "name": "stdout",
     "output_type": "stream",
     "text": [
      "Answer: 1516\n",
      "  0.070415 seconds (152.36 k allocations: 7.635 MiB, 94.93% compilation time)\n"
     ]
    }
   ],
   "source": [
    "# Day 1, part 2\n",
    "# Now, instead of looking at single elements, count the number of times that the 3-rolling sum increases\n",
    "@time begin\n",
    "    f = open(\"input.txt\", \"r\");\n",
    "    heights = parse.(Int16, readlines(f));\n",
    "    ind = 1:3;\n",
    "    answer = 0;\n",
    "    prev_sum = sum(heights[ind]);\n",
    "    for j = 2:length(heights)-2\n",
    "        if sum(heights[ind .+ 1]) > prev_sum\n",
    "            answer += 1;\n",
    "        end\n",
    "        \n",
    "        ind = ind .+ 1;\n",
    "        prev_sum = sum(heights[ind]);\n",
    "    end\n",
    "    println(\"Answer: $(answer)\")\n",
    "end"
   ]
  }
 ],
 "metadata": {
  "kernelspec": {
   "display_name": "Julia 1.7.0",
   "language": "julia",
   "name": "julia-1.7"
  },
  "language_info": {
   "file_extension": ".jl",
   "mimetype": "application/julia",
   "name": "julia",
   "version": "1.7.0"
  },
  "orig_nbformat": 4
 },
 "nbformat": 4,
 "nbformat_minor": 2
}
